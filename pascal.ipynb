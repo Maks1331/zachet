{
 "cells": [
  {
   "cell_type": "code",
   "execution_count": 1,
   "id": "f746ec53",
   "metadata": {},
   "outputs": [
    {
     "name": "stdout",
     "output_type": "stream",
     "text": [
      "[1, 3, 3, 1]\n",
      "[1]\n",
      "[1, 1]\n"
     ]
    }
   ],
   "source": [
    "def getRow(rowIndex):\n",
    "    row = [1]\n",
    "    for i in range(1, rowIndex + 1):\n",
    "        next_row = [1]\n",
    "        for j in range(1, i):\n",
    "            next_row.append(row[j - 1] + row[j])\n",
    "        next_row.append(1)\n",
    "        row = next_row\n",
    "    return row\n",
    "\n",
    "print(getRow(3))\n",
    "print(getRow(0))\n",
    "print(getRow(1))"
   ]
  }
 ],
 "metadata": {
  "kernelspec": {
   "display_name": "Python 3",
   "language": "python",
   "name": "python3"
  },
  "language_info": {
   "codemirror_mode": {
    "name": "ipython",
    "version": 3
   },
   "file_extension": ".py",
   "mimetype": "text/x-python",
   "name": "python",
   "nbconvert_exporter": "python",
   "pygments_lexer": "ipython3",
   "version": "3.12.6"
  }
 },
 "nbformat": 4,
 "nbformat_minor": 5
}
