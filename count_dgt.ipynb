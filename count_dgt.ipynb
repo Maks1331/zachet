{
 "cells": [
  {
   "cell_type": "code",
   "execution_count": 3,
   "id": "eb8913ff",
   "metadata": {},
   "outputs": [
    {
     "name": "stdout",
     "output_type": "stream",
     "text": [
      "Результат:\n",
      "Цифра 1: 3 раз(а)\n",
      "Цифра 2: 3 раз(а)\n",
      "Цифра 3: 3 раз(а)\n",
      "Цифра 4: 1 раз(а)\n"
     ]
    }
   ],
   "source": [
    "number = input(\"Введите число: \")\n",
    "digit_count = {str(digit): 0 for digit in range(10)}\n",
    "\n",
    "for digit in number:\n",
    "    if digit in digit_count:\n",
    "        digit_count[digit] += 1\n",
    "\n",
    "print(\"Результат:\")\n",
    "for digit, count in digit_count.items():\n",
    "    if count > 0:\n",
    "        print(f\"Цифра {digit}: {count} раз(а)\")"
   ]
  }
 ],
 "metadata": {
  "kernelspec": {
   "display_name": "Python 3",
   "language": "python",
   "name": "python3"
  },
  "language_info": {
   "codemirror_mode": {
    "name": "ipython",
    "version": 3
   },
   "file_extension": ".py",
   "mimetype": "text/x-python",
   "name": "python",
   "nbconvert_exporter": "python",
   "pygments_lexer": "ipython3",
   "version": "3.12.6"
  }
 },
 "nbformat": 4,
 "nbformat_minor": 5
}
