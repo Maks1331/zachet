{
 "cells": [
  {
   "cell_type": "code",
   "execution_count": 1,
   "id": "d9963b08",
   "metadata": {},
   "outputs": [
    {
     "name": "stdout",
     "output_type": "stream",
     "text": [
      "1\n",
      "2\n",
      "3\n",
      "4\n",
      "5\n",
      "6\n"
     ]
    }
   ],
   "source": [
    "class FlattenIterator:\n",
    "    def __init__(self, nested_list):\n",
    "        self.stack = nested_list[::-1]\n",
    "    \n",
    "    def __iter__(self):\n",
    "        return self\n",
    "    \n",
    "    def __next__(self):\n",
    "        while self.stack:\n",
    "            top = self.stack.pop()\n",
    "            if isinstance(top, list):\n",
    "                self.stack.extend(top[::-1])\n",
    "            else:\n",
    "                return top\n",
    "        raise StopIteration\n",
    "    \n",
    "nested_list = [1, [2, [3, 4], 5], 6]\n",
    "flat = FlattenIterator(nested_list)\n",
    "for num in flat:\n",
    "    print(num)"
   ]
  }
 ],
 "metadata": {
  "kernelspec": {
   "display_name": "Python 3",
   "language": "python",
   "name": "python3"
  },
  "language_info": {
   "codemirror_mode": {
    "name": "ipython",
    "version": 3
   },
   "file_extension": ".py",
   "mimetype": "text/x-python",
   "name": "python",
   "nbconvert_exporter": "python",
   "pygments_lexer": "ipython3",
   "version": "3.12.6"
  }
 },
 "nbformat": 4,
 "nbformat_minor": 5
}
