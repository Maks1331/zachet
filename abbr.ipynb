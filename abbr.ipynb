{
 "cells": [
  {
   "cell_type": "code",
   "execution_count": null,
   "id": "67cc2e91",
   "metadata": {},
   "outputs": [
    {
     "name": "stdout",
     "output_type": "stream",
     "text": [
      "TIL\n",
      "ВУЗ\n",
      "КОТ\n",
      "АД\n",
      "АВ\n"
     ]
    }
   ],
   "source": [
    "def create_abbreviation(phrase):\n",
    "    words = phrase.split()\n",
    "    abbreviation = []\n",
    "    for word in words:\n",
    "        first_letter = None\n",
    "        for char in word:\n",
    "            if ('а' <= char <= 'я') or ('А' <= char <= 'Я') or \\\n",
    "               ('a' <= char <= 'z') or ('A' <= char <= 'Z'):\n",
    "                first_letter = char.upper()\n",
    "                break\n",
    "        if first_letter is not None:\n",
    "            abbreviation.append(first_letter)\n",
    "    return ''.join(abbreviation)"
   ]
  }
 ],
 "metadata": {
  "kernelspec": {
   "display_name": "Python 3",
   "language": "python",
   "name": "python3"
  },
  "language_info": {
   "codemirror_mode": {
    "name": "ipython",
    "version": 3
   },
   "file_extension": ".py",
   "mimetype": "text/x-python",
   "name": "python",
   "nbconvert_exporter": "python",
   "pygments_lexer": "ipython3",
   "version": "3.12.6"
  }
 },
 "nbformat": 4,
 "nbformat_minor": 5
}
